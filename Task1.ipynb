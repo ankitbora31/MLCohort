{
 "cells": [
  {
   "cell_type": "code",
   "execution_count": null,
   "metadata": {},
   "outputs": [],
   "source": [
    "import os\n",
    "import cv2\n",
    "\n"
   ]
  },
  {
   "cell_type": "code",
   "execution_count": null,
   "metadata": {},
   "outputs": [],
   "source": [
    "def img_to_gray(directory_name):\n",
    "    obj = os.listdir(directory_name)\n",
    "    img_array = []\n",
    "    for n in obj:\n",
    "        img = cv2.imread(os.path.join(directory_name, n), 0)\n",
    "        img_array.append(img)\n",
    "        cv2.imwrite(f'C:/Users/ankit/PycharmProjects/cuvette/Task1_result/gray_{n}', img)\n",
    "    return img_array\n"
   ]
  },
  {
   "cell_type": "code",
   "execution_count": null,
   "metadata": {},
   "outputs": [],
   "source": [
    "# driver\n",
    "if __name__ == \"__main__\":\n",
    "    directory = input(\"Directory Name: \")\n",
    "    imgs = img_to_gray(directory)\n",
    "    print(len(imgs))"
   ]
  },
  {
   "cell_type": "code",
   "execution_count": null,
   "metadata": {},
   "outputs": [],
   "source": []
  }
 ],
 "metadata": {
  "kernelspec": {
   "display_name": "Python 3",
   "language": "python",
   "name": "python3"
  },
  "language_info": {
   "codemirror_mode": {
    "name": "ipython",
    "version": 3
   },
   "file_extension": ".py",
   "mimetype": "text/x-python",
   "name": "python",
   "nbconvert_exporter": "python",
   "pygments_lexer": "ipython3",
   "version": "3.7.4"
  }
 },
 "nbformat": 4,
 "nbformat_minor": 5
}
